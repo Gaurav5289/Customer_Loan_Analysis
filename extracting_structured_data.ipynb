{
  "cells": [
    {
      "cell_type": "code",
      "execution_count": null,
      "metadata": {
        "colab": {
          "base_uri": "https://localhost:8080/"
        },
        "id": "nolB9uONJ5U7",
        "outputId": "f5240a6a-edb3-4368-a073-731b3d787ac8"
      },
      "outputs": [
        {
          "output_type": "stream",
          "name": "stdout",
          "text": [
            "✅ Saved personal_data.csv\n",
            "✅ Saved loan_data.csv\n"
          ]
        }
      ],
      "source": [
        "import re\n",
        "import json\n",
        "import csv\n",
        "\n",
        "loan_records = []\n",
        "person_records = []\n",
        "\n",
        "# Load entire file as a string\n",
        "with open(\"/content/noisy_data+1.txt\", \"r\", encoding=\"utf-8\") as f:\n",
        "    data = f.read()\n",
        "\n",
        "# Extract loan JSON objects using regex\n",
        "json_loans = re.findall(r'{\\s*\"loan_id\"\\s*:\\s*\"LN\\d+\".*?}', data)\n",
        "\n",
        "for item in json_loans:\n",
        "    try:\n",
        "        loan = json.loads(item)\n",
        "        loan_records.append(loan)\n",
        "    except json.JSONDecodeError:\n",
        "        continue\n",
        "\n",
        "# Extract personal records line by line\n",
        "for line in data.splitlines():\n",
        "    line = line.strip()\n",
        "    if line.startswith(\"name,\"):\n",
        "        parts = line.split(\",\")\n",
        "        try:\n",
        "            person = {\n",
        "                \"person_id\": f\"P{len(person_records)+1:06}\",  # Unique ID\n",
        "                \"name\": parts[1],\n",
        "                \"gender\": parts[3],\n",
        "                \"address\": parts[5],\n",
        "                \"pan\": parts[7].replace(\"pan\", \"\").strip(),\n",
        "                \"dob\": parts[9].replace(\"dob\", \"\").strip()\n",
        "            }\n",
        "            person_records.append(person)\n",
        "        except IndexError:\n",
        "            continue\n",
        "\n",
        "# ✅ Save personal records\n",
        "if person_records:\n",
        "    with open(\"personal_data.csv\", \"w\", newline='', encoding=\"utf-8\") as f:\n",
        "        writer = csv.DictWriter(f, fieldnames=person_records[0].keys())\n",
        "        writer.writeheader()\n",
        "        writer.writerows(person_records)\n",
        "    print(\"✅ Saved personal_data.csv\")\n",
        "\n",
        "# ✅ Save loan records (add foreign key reference)\n",
        "if loan_records:\n",
        "    for i in range(min(len(loan_records), len(person_records))):\n",
        "        loan_records[i][\"person_id\"] = person_records[i][\"person_id\"]\n",
        "\n",
        "    with open(\"loan_data.csv\", \"w\", newline='', encoding=\"utf-8\") as f:\n",
        "        writer = csv.DictWriter(f, fieldnames=loan_records[0].keys())\n",
        "        writer.writeheader()\n",
        "        writer.writerows(loan_records)\n",
        "    print(\"✅ Saved loan_data.csv\")\n"
      ]
    },
    {
      "cell_type": "code",
      "source": [
        "import pandas as pd\n",
        "\n",
        "# Load both datasets\n",
        "df_loan = pd.read_csv(\"loan_data.csv\")\n",
        "df_personal = pd.read_csv(\"personal_data.csv\")\n",
        "\n",
        "# Merge on person_id\n",
        "df_merged = df_loan.merge(df_personal, on=\"person_id\", how=\"inner\")\n",
        "\n",
        "# Save merged data\n",
        "df_merged.to_csv(\"merged_loan_person_data.csv\", index=False)\n",
        "\n",
        "print(\"✅ Merged data saved to merged_loan_person_data.csv\")\n",
        "print(\"🧾 Final shape:\", df_merged.shape)\n"
      ],
      "metadata": {
        "colab": {
          "base_uri": "https://localhost:8080/"
        },
        "id": "0U2hsfGCNZ81",
        "outputId": "af20bc98-f01b-4f22-f63a-e3ced3cf8277"
      },
      "execution_count": null,
      "outputs": [
        {
          "output_type": "stream",
          "name": "stdout",
          "text": [
            "✅ Merged data saved to merged_loan_person_data.csv\n",
            "🧾 Final shape: (42102, 12)\n"
          ]
        }
      ]
    },
    {
      "cell_type": "code",
      "source": [],
      "metadata": {
        "id": "V_rFLifMYaXK"
      },
      "execution_count": null,
      "outputs": []
    }
  ],
  "metadata": {
    "colab": {
      "provenance": []
    },
    "kernelspec": {
      "display_name": "Python 3",
      "name": "python3"
    },
    "language_info": {
      "name": "python"
    }
  },
  "nbformat": 4,
  "nbformat_minor": 0
}